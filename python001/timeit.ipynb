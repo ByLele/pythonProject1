{
 "cells": [
  {
   "cell_type": "code",
   "execution_count": 3,
   "metadata": {},
   "outputs": [
    {
     "name": "stdout",
     "output_type": "stream",
     "text": [
      "custom_time: 0.02173210002365522\n",
      "built in sum:  0.007515100005548447\n"
     ]
    }
   ],
   "source": [
    "import timeit\n",
    "\n",
    "def custom_sum(numbers):\n",
    "    total= 0\n",
    "    for num in numbers:\n",
    "        total +=num\n",
    "    return total\n",
    "\n",
    "def built_in_sum(numbers):\n",
    "    return sum(numbers)\n",
    "\n",
    "numbers = range(10000)\n",
    "\n",
    "print(\"custom_time:\",timeit.timeit(lambda:custom_sum(numbers),number=100))\n",
    "print(\"built in sum: \",timeit.timeit(lambda:built_in_sum(numbers),number=100))\n"
   ]
  }
 ],
 "metadata": {
  "kernelspec": {
   "display_name": "Python 3",
   "language": "python",
   "name": "python3"
  },
  "language_info": {
   "codemirror_mode": {
    "name": "ipython",
    "version": 3
   },
   "file_extension": ".py",
   "mimetype": "text/x-python",
   "name": "python",
   "nbconvert_exporter": "python",
   "pygments_lexer": "ipython3",
   "version": "3.12.3"
  }
 },
 "nbformat": 4,
 "nbformat_minor": 2
}
