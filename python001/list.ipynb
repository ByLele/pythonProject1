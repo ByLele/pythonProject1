{
 "cells": [
  {
   "cell_type": "code",
   "execution_count": 1,
   "metadata": {},
   "outputs": [
    {
     "name": "stdout",
     "output_type": "stream",
     "text": [
      "['x', 'y', 'z', 'w']\n",
      "2264276986752 2264276986752\n"
     ]
    }
   ],
   "source": [
    "\n",
    "my_list= ['x','y','z']\n",
    "ref_data = my_list\n",
    "ref_data.append('w')\n",
    "print(ref_data)\n",
    "print(id(my_list),id(ref_data))"
   ]
  },
  {
   "cell_type": "code",
   "execution_count": 3,
   "metadata": {},
   "outputs": [],
   "source": [
    "#list methods\n",
    "al_list = [1,2,3,'x']\n",
    "al_list.append('y')\n",
    "bb_list = al_list.copy()\n",
    "al_list.clear()\n",
    "bb_list.index('x')\n",
    "bb_list.insert(0,4)\n",
    "bb_list.pop()\n",
    "\n",
    "bb_list.remove(2)\n",
    "bb_list.reverse()\n"
   ]
  }
 ],
 "metadata": {
  "kernelspec": {
   "display_name": "Python 3",
   "language": "python",
   "name": "python3"
  },
  "language_info": {
   "codemirror_mode": {
    "name": "ipython",
    "version": 3
   },
   "file_extension": ".py",
   "mimetype": "text/x-python",
   "name": "python",
   "nbconvert_exporter": "python",
   "pygments_lexer": "ipython3",
   "version": "3.12.3"
  }
 },
 "nbformat": 4,
 "nbformat_minor": 2
}
