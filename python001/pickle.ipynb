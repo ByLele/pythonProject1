{
 "cells": [
  {
   "cell_type": "code",
   "execution_count": 5,
   "metadata": {},
   "outputs": [
    {
     "name": "stdout",
     "output_type": "stream",
     "text": [
      "{'a': 1, 'b': 2, 'c': 3}\n"
     ]
    }
   ],
   "source": [
    "import pickle\n",
    "\n",
    "m_dict = {\"a\":1,\"b\":2,\"c\":3}\n",
    "with open('dick.pk1','wb') as file:\n",
    "    pickle.dump(m_dict,file)\n",
    "\n",
    "with open('dick.pk1','rb') as file:\n",
    "    loadmyd = pickle.load(file)\n",
    "\n",
    "print(loadmyd)"
   ]
  },
  {
   "cell_type": "code",
   "execution_count": 6,
   "metadata": {},
   "outputs": [
    {
     "name": "stdout",
     "output_type": "stream",
     "text": [
      "['a', 'b', 'c']\n"
     ]
    }
   ],
   "source": [
    "import pickle\n",
    "\n",
    "mlist=[\"a\",'b','c']\n",
    "with open(\"list.pk1\",'wb') as file:\n",
    "    pickle.dump(mlist,file)\n",
    "\n",
    "with open(\"list.pk1\",'rb') as file:\n",
    "    loadmylist= pickle.load(file)\n",
    "\n",
    "print(loadmylist)"
   ]
  }
 ],
 "metadata": {
  "kernelspec": {
   "display_name": "Python 3",
   "language": "python",
   "name": "python3"
  },
  "language_info": {
   "codemirror_mode": {
    "name": "ipython",
    "version": 3
   },
   "file_extension": ".py",
   "mimetype": "text/x-python",
   "name": "python",
   "nbconvert_exporter": "python",
   "pygments_lexer": "ipython3",
   "version": "3.12.3"
  }
 },
 "nbformat": 4,
 "nbformat_minor": 2
}
