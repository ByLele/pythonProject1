{
 "cells": [
  {
   "cell_type": "markdown",
   "metadata": {},
   "source": [
    "006 装饰器\n",
    "函数是一个特殊的 object \n",
    "    定义函数 新建变量 变量保存 function_object\n",
    "    python中所有变量可以调用 **非 callable runtime 出错**\n",
    "    python 中函数是 一个object 也可以作为参数传递\n",
    "    函数本身可以作为返回值\n",
    "\n",
    "装饰器\n",
    "def get_multiple_func(n):\n",
    "    def multiple(x):\n",
    "        return x*n\n",
    "    return multiple  # 函数作为返回值返回  返回一个函数 一个可被调用object\n",
    "\n",
    "\n",
    "#decorator 就是一个 callable\n",
    "![alt text](image-1.png)\n"
   ]
  },
  {
   "cell_type": "code",
   "execution_count": 10,
   "metadata": {},
   "outputs": [
    {
     "name": "stdout",
     "output_type": "stream",
     "text": [
      "  0           0 RESUME                   0\n",
      "\n",
      "  1           2 PUSH_NULL\n",
      "              4 LOAD_CONST               0 (1)\n",
      "              6 CALL                     0\n",
      "             14 RETURN_VALUE\n"
     ]
    },
    {
     "name": "stderr",
     "output_type": "stream",
     "text": [
      "<dis>:1: SyntaxWarning: 'int' object is not callable; perhaps you missed a comma?\n"
     ]
    },
    {
     "ename": "TypeError",
     "evalue": "double() missing 1 required positional argument: 'x'",
     "output_type": "error",
     "traceback": [
      "\u001b[1;31m---------------------------------------------------------------------------\u001b[0m",
      "\u001b[1;31mTypeError\u001b[0m                                 Traceback (most recent call last)",
      "Cell \u001b[1;32mIn[10], line 4\u001b[0m\n\u001b[0;32m      2\u001b[0m dis\u001b[38;5;241m.\u001b[39mdis(\u001b[38;5;124m\"\u001b[39m\u001b[38;5;124m1()\u001b[39m\u001b[38;5;124m\"\u001b[39m)\n\u001b[0;32m      3\u001b[0m double  \u001b[38;5;66;03m#也是object\u001b[39;00m\n\u001b[1;32m----> 4\u001b[0m dis\u001b[38;5;241m.\u001b[39mdis(\u001b[43mdouble\u001b[49m\u001b[43m(\u001b[49m\u001b[43m)\u001b[49m)\n",
      "\u001b[1;31mTypeError\u001b[0m: double() missing 1 required positional argument: 'x'"
     ]
    }
   ],
   "source": [
    "import dis\n",
    "dis.dis(\"1()\")\n",
    "double  #也是object\n",
    "dis.dis(double())"
   ]
  },
  {
   "cell_type": "code",
   "execution_count": 8,
   "metadata": {},
   "outputs": [
    {
     "name": "stdout",
     "output_type": "stream",
     "text": [
      "  3           0 RESUME                   0\n",
      "\n",
      "  4           2 LOAD_FAST                0 (x)\n",
      "              4 LOAD_CONST               1 (2)\n",
      "              6 BINARY_OP                5 (*)\n",
      "             10 RETURN_VALUE\n",
      "None\n"
     ]
    }
   ],
   "source": [
    "import  dis\n",
    "\n",
    "def double(x):\n",
    "    return x*2\n",
    "\n",
    "print(dis.dis(double))"
   ]
  },
  {
   "cell_type": "code",
   "execution_count": null,
   "metadata": {},
   "outputs": [
    {
     "name": "stdout",
     "output_type": "stream",
     "text": [
      "test took 0.5076923370361328 mil sec\n"
     ]
    }
   ],
   "source": [
    "import time\n",
    "\n",
    "def timeit(f):\n",
    "    def wrapper(*args, **kwargs):  # 可变参数 可变长参数\n",
    "        start = time.time()\n",
    "        result = f(*args, **kwargs)\n",
    "        end = time.time()\n",
    "        print(f.__name__ + \" took \" + str((end-start)) + \" mil sec\")\n",
    "        return result\n",
    "    return wrapper\n",
    "\n",
    "@timeit\n",
    "def test():\n",
    "    for i in range(1000):\n",
    "        time.sleep(0.000000000001*i)\n",
    "\n",
    "test()"
   ]
  },
  {
   "cell_type": "code",
   "execution_count": 18,
   "metadata": {},
   "outputs": [
    {
     "data": {
      "text/plain": [
       "9"
      ]
     },
     "execution_count": 18,
     "metadata": {},
     "output_type": "execute_result"
    }
   ],
   "source": [
    "#python 中函数是 一个object 也可以作为参数传递\n",
    "\n",
    "def double(x):\n",
    "    return x*2\n",
    "\n",
    "def trible(y):\n",
    "    return y*3\n",
    "\n",
    "def calc_number(func,num):\n",
    "    return func(num)\n",
    "\n",
    "calc_number(double,3)\n",
    "calc_number(trible,3)\n",
    "#函数本身可以作为返回值"
   ]
  },
  {
   "cell_type": "code",
   "execution_count": null,
   "metadata": {},
   "outputs": [
    {
     "name": "stdout",
     "output_type": "stream",
     "text": [
      "6\n"
     ]
    }
   ],
   "source": [
    "# 函数作为返回值返回\n",
    "\n",
    "# def double(x):\n",
    "#     return x*2\n",
    "\n",
    "# def trible(y):\n",
    "#     return y*3\n",
    "\n",
    "def get_multiple_func(n):\n",
    "    def multiple(x):\n",
    "        return x*n\n",
    "    return multiple  # 函数作为返回值返回  返回一个函数 一个可被调用object\n",
    "\n",
    "muti_deboule = get_multiple_func(3)\n",
    "print(muti_deboule(2)) "
   ]
  },
  {
   "cell_type": "code",
   "execution_count": null,
   "metadata": {},
   "outputs": [
    {
     "ename": "TypeError",
     "evalue": "'NoneType' object is not callable",
     "output_type": "error",
     "traceback": [
      "\u001b[1;31m---------------------------------------------------------------------------\u001b[0m",
      "\u001b[1;31mTypeError\u001b[0m                                 Traceback (most recent call last)",
      "Cell \u001b[1;32mIn[22], line 12\u001b[0m\n\u001b[0;32m      8\u001b[0m     \u001b[38;5;28;01mreturn\u001b[39;00m x\u001b[38;5;241m*\u001b[39m\u001b[38;5;241m2\u001b[39m\n\u001b[0;32m     11\u001b[0m deco \u001b[38;5;241m=\u001b[39m dec(double)\n\u001b[1;32m---> 12\u001b[0m \u001b[43mdeco\u001b[49m\u001b[43m(\u001b[49m\u001b[43m)\u001b[49m\n\u001b[0;32m     14\u001b[0m dis\u001b[38;5;241m.\u001b[39mdis(double)\n",
      "\u001b[1;31mTypeError\u001b[0m: 'NoneType' object is not callable"
     ]
    }
   ],
   "source": [
    "#decorator 就是一个 callable\n",
    "import dis\n",
    "def dec(f):\n",
    "    pass\n",
    "# 1\n",
    "@dec\n",
    "def double(x):\n",
    "    return x*2\n",
    "\n",
    "# 2\n",
    "deco = dec(double) #decorator 是一个输入和输出都是函数的函数  可调用对象\n",
    "\n",
    "##############  1 2 完全等价\n",
    "#dis.dis(double)"
   ]
  },
  {
   "cell_type": "code",
   "execution_count": 24,
   "metadata": {},
   "outputs": [
    {
     "name": "stdout",
     "output_type": "stream",
     "text": [
      "1\n"
     ]
    },
    {
     "ename": "TypeError",
     "evalue": "'int' object is not callable",
     "output_type": "error",
     "traceback": [
      "\u001b[1;31m---------------------------------------------------------------------------\u001b[0m",
      "\u001b[1;31mTypeError\u001b[0m                                 Traceback (most recent call last)",
      "Cell \u001b[1;32mIn[24], line 10\u001b[0m\n\u001b[0;32m      6\u001b[0m     \u001b[38;5;28;01mreturn\u001b[39;00m x\u001b[38;5;241m*\u001b[39m\u001b[38;5;241m2\u001b[39m\n\u001b[0;32m      8\u001b[0m \u001b[38;5;28mprint\u001b[39m(double)\n\u001b[1;32m---> 10\u001b[0m \u001b[43mdouble\u001b[49m\u001b[43m(\u001b[49m\u001b[38;5;241;43m2\u001b[39;49m\u001b[43m)\u001b[49m\n",
      "\u001b[1;31mTypeError\u001b[0m: 'int' object is not callable"
     ]
    }
   ],
   "source": [
    "def dec(f):\n",
    "    return 1\n",
    "\n",
    "@dec\n",
    "def double(x):\n",
    "    return x*2\n",
    "\n",
    "print(double)\n",
    "\n",
    "double(2)"
   ]
  },
  {
   "cell_type": "code",
   "execution_count": null,
   "metadata": {},
   "outputs": [],
   "source": [
    "# 带参数 decorator 返回函数调用参数结果返回函数 重复调用一个参数"
   ]
  },
  {
   "cell_type": "code",
   "execution_count": null,
   "metadata": {},
   "outputs": [],
   "source": [
    "007  codeobject\n",
    "python 运行时编译成codeobject\n",
    "https://docs.python.org/3/library/inspect.html"
   ]
  },
  {
   "cell_type": "code",
   "execution_count": 10,
   "metadata": {},
   "outputs": [
    {
     "name": "stdout",
     "output_type": "stream",
     "text": [
      "<code object f at 0x000002ED21578780, file \"C:\\Users\\g\\AppData\\Local\\Temp\\ipykernel_44688\\3821623222.py\", line 1>\n"
     ]
    },
    {
     "name": "stderr",
     "output_type": "stream",
     "text": [
      "C:\\Users\\g\\AppData\\Local\\Temp\\ipykernel_44688\\3821623222.py:14: DeprecationWarning: co_lnotab is deprecated, use co_lines instead.\n",
      "  code.co_lnotab\n"
     ]
    },
    {
     "ename": "TypeError",
     "evalue": "x() missing 1 required positional argument: 'a'",
     "output_type": "error",
     "traceback": [
      "\u001b[1;31m---------------------------------------------------------------------------\u001b[0m",
      "\u001b[1;31mTypeError\u001b[0m                                 Traceback (most recent call last)",
      "Cell \u001b[1;32mIn[10], line 32\u001b[0m\n\u001b[0;32m     30\u001b[0m x(\u001b[38;5;241m1\u001b[39m)\n\u001b[0;32m     31\u001b[0m x(\u001b[38;5;241m1\u001b[39m,\u001b[38;5;241m1\u001b[39m)\n\u001b[1;32m---> 32\u001b[0m \u001b[43mx\u001b[49m\u001b[43m(\u001b[49m\u001b[43ma\u001b[49m\u001b[38;5;241;43m=\u001b[39;49m\u001b[38;5;241;43m1\u001b[39;49m\u001b[43m)\u001b[49m\n",
      "\u001b[1;31mTypeError\u001b[0m: x() missing 1 required positional argument: 'a'"
     ]
    }
   ],
   "source": [
    "def f():\n",
    "    pass\n",
    "\n",
    "print(f.__code__)\n",
    "#函数 funtion object  对应 codeobject\n",
    "\n",
    "#dir(f.__code__)\n",
    "# codeobject attribute  对应 codeobject  方法\n",
    "\n",
    "code = f.__code__\n",
    "code.co_code  #二进制   字节码\n",
    "\n",
    "code.co_filename\n",
    "code.co_lnotab\n",
    "\n",
    "code.co_flags    # *arg **kwarg\n",
    "code.co_stacksize\n",
    "\n",
    "code.co_argcount\n",
    "code.co_posonlyargcount\n",
    "code.co_kwonlyargcount\n",
    "\n",
    "#positon onley \n",
    "#keyword only\n",
    "\n",
    "def x(a,b=3,/,*arg,**kwarg):\n",
    "    pass\n",
    "\n",
    "\n",
    "x(1)\n",
    "x(1,1)\n",
    "x(a=1)"
   ]
  },
  {
   "cell_type": "code",
   "execution_count": null,
   "metadata": {},
   "outputs": [
    {
     "data": {
      "text/plain": [
       "0"
      ]
     },
     "execution_count": 12,
     "metadata": {},
     "output_type": "execute_result"
    }
   ],
   "source": [
    "\n",
    "\n",
    "#positon onley \n",
    "#keyword only\n",
    "# / 前为 posion onlY\n",
    "def x(a,b=3,/,*arg,**kwarg):\n",
    "    pass\n",
    "\n",
    "\n",
    "x(1)\n",
    "x(1,1)\n",
    "x(1,3,a=1)\n",
    "\n",
    "code = x.__code__\n",
    "\n",
    "code.co_argcount\n",
    "code.co_posonlyargcount\n",
    "code.co_kwonlyargcount"
   ]
  },
  {
   "cell_type": "code",
   "execution_count": null,
   "metadata": {},
   "outputs": [
    {
     "data": {
      "text/plain": [
       "0"
      ]
     },
     "execution_count": 15,
     "metadata": {},
     "output_type": "execute_result"
    }
   ],
   "source": [
    "\n",
    "\n",
    "#positon onley \n",
    "#keyword only\n",
    "# * 前为 posion onlY\n",
    "def x(a,*arg,**kwarg):\n",
    "    pass\n",
    "\n",
    "\n",
    "x(1)\n",
    "x(1,1)\n",
    "x(a=1)\n",
    "\n",
    "code = x.__code__\n",
    "\n",
    "code.co_argcount     # 除了 * ** posion  keyword 外的个数\n",
    "\n",
    "code.co_posonlyargcount   \n",
    "code.co_kwonlyargcount"
   ]
  },
  {
   "cell_type": "code",
   "execution_count": null,
   "metadata": {},
   "outputs": [
    {
     "name": "stdout",
     "output_type": "stream",
     "text": [
      "  6           0 RESUME                   0\n",
      "\n",
      "  7           2 LOAD_CONST               1 (0)\n",
      "              4 LOAD_CONST               0 (None)\n",
      "              6 IMPORT_NAME              0 (math)\n",
      "              8 STORE_FAST               1 (m)\n",
      "\n",
      "  8          10 LOAD_FAST                0 (a)\n",
      "             12 LOAD_ATTR                2 (attr)\n",
      "             32 STORE_FAST               2 (b)\n",
      "\n",
      " 10          34 LOAD_FAST                2 (b)\n",
      "             36 RETURN_VALUE\n",
      "3\n",
      "('a', 'm', 'b')\n",
      "('math', 'attr')\n",
      "()\n",
      "()\n",
      "(None, 0)\n"
     ]
    }
   ],
   "source": [
    "\n",
    "# 函数变量处理  O(1) a 0  b 1\n",
    "\n",
    "import dis  \n",
    "\n",
    "global c \n",
    "def f(a):\n",
    "    import math as m\n",
    "    b = a.attr\n",
    "    #c = 2+1\n",
    "    return b\n",
    "\n",
    "\n",
    "dis.dis(f)  \n",
    "code = f.__code__\n",
    "print(code.co_nlocals)\n",
    "print(code.co_varnames)\n",
    "print(code.co_names)  # 函数中使用的变量  非reserverd word 的 string\n",
    "\n",
    "print(code.co_cellvars) # variable \n",
    "print(code.co_freevars) # 其他地方variable\n",
    "\n",
    "print(code.co_consts)"
   ]
  },
  {
   "cell_type": "code",
   "execution_count": null,
   "metadata": {},
   "outputs": [
    {
     "name": "stdout",
     "output_type": "stream",
     "text": [
      "              0 MAKE_CELL                1 (d)\n",
      "\n",
      "  6           2 RESUME                   0\n",
      "\n",
      "  7           4 BUILD_MAP                0\n",
      "              6 STORE_DEREF              1 (d)\n",
      "\n",
      "  8           8 LOAD_CLOSURE             1 (d)\n",
      "             10 BUILD_TUPLE              1\n",
      "             12 LOAD_CONST               1 (<code object g at 0x000002ED21649B00, file \"C:\\Users\\g\\AppData\\Local\\Temp\\ipykernel_44688\\2619712033.py\", line 8>)\n",
      "             14 MAKE_FUNCTION            8 (closure)\n",
      "             16 STORE_FAST               0 (g)\n",
      "\n",
      " 10          18 LOAD_FAST                0 (g)\n",
      "             20 RETURN_VALUE\n",
      "\n",
      "Disassembly of <code object g at 0x000002ED21649B00, file \"C:\\Users\\g\\AppData\\Local\\Temp\\ipykernel_44688\\2619712033.py\", line 8>:\n",
      "              0 COPY_FREE_VARS           1\n",
      "\n",
      "  8           2 RESUME                   0\n",
      "\n",
      "  9           4 LOAD_CONST               1 (1)\n",
      "              6 LOAD_DEREF               0 (d)\n",
      "              8 LOAD_CONST               2 ('a')\n",
      "             10 STORE_SUBSCR\n",
      "             14 RETURN_CONST             0 (None)\n",
      "0\n",
      "()\n",
      "()\n",
      "()\n",
      "('d',)\n",
      "(None, 1, 'a')\n"
     ]
    }
   ],
   "source": [
    "\n",
    "# 函数变量处理  O(1) a 0  b 1\n",
    "\n",
    "import dis  \n",
    "\n",
    "global c \n",
    "def f():\n",
    "    d = {}\n",
    "    def g():\n",
    "        d['a'] = 1\n",
    "    return g\n",
    "    \n",
    "\n",
    "\n",
    "\n",
    "dis.dis(f)  \n",
    "# code =f.__code__\n",
    "\n",
    "code = f().__code__\n",
    "\n",
    "print(code.co_nlocals)\n",
    "print(code.co_varnames)\n",
    "print(code.co_names)  # 函数中使用的变量  非reserverd word 的 string\n",
    "\n",
    "print(code.co_cellvars) # variable \n",
    "print(code.co_freevars) # 其他地方variable\n",
    "\n",
    "print(code.co_consts) # 保存 python object\n",
    "\"\"\"\n",
    "              6 STORE_DEREF              1 (d)\n",
    "\n",
    "  8           8 LOAD_CLOSURE             1 (d)\n",
    "\"\"\""
   ]
  }
 ],
 "metadata": {
  "kernelspec": {
   "display_name": "Python 3",
   "language": "python",
   "name": "python3"
  },
  "language_info": {
   "codemirror_mode": {
    "name": "ipython",
    "version": 3
   },
   "file_extension": ".py",
   "mimetype": "text/x-python",
   "name": "python",
   "nbconvert_exporter": "python",
   "pygments_lexer": "ipython3",
   "version": "3.12.3"
  }
 },
 "nbformat": 4,
 "nbformat_minor": 2
}
