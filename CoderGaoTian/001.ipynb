{
 "cells": [
  {
   "cell_type": "markdown",
   "metadata": {
    "notebookRunGroups": {
     "groupValue": "2"
    }
   },
   "source": [
    "001\n",
    "三个看似一样的列表，占用内存空间竟然不一样多？"
   ]
  },
  {
   "cell_type": "code",
   "execution_count": 2,
   "metadata": {},
   "outputs": [
    {
     "data": {
      "text/plain": [
       "192"
      ]
     },
     "execution_count": 2,
     "metadata": {},
     "output_type": "execute_result"
    }
   ],
   "source": [
    "import sys\n",
    "sys.getsizeof([0]*3) #80\n",
    "sys.getsizeof([0,0,0]) #88 \n",
    "sys.getsizeof(0 for _ in range(3)) #192\n"
   ]
  },
  {
   "cell_type": "markdown",
   "metadata": {},
   "source": [
    "字节码 分析python 代码差异\n",
    "import dis\n",
    "dis.dis"
   ]
  },
  {
   "cell_type": "code",
   "execution_count": 1,
   "metadata": {},
   "outputs": [
    {
     "name": "stdout",
     "output_type": "stream",
     "text": [
      "  0           0 RESUME                   0\n",
      "\n",
      "  1           2 LOAD_CONST               0 (0)\n",
      "              4 BUILD_LIST               1\n",
      "              6 LOAD_CONST               1 (3)\n",
      "              8 BINARY_OP                5 (*)\n",
      "             12 RETURN_VALUE\n"
     ]
    }
   ],
   "source": [
    "import dis\n",
    "dis.dis(\"[0]*3\")\n",
    "\n"
   ]
  },
  {
   "cell_type": "markdown",
   "metadata": {},
   "source": [
    "002\n",
    "默认参数 置为None(=None)"
   ]
  },
  {
   "cell_type": "code",
   "execution_count": 8,
   "metadata": {},
   "outputs": [
    {
     "name": "stdout",
     "output_type": "stream",
     "text": [
      "2767069567360\n",
      "2767069565440\n",
      "2767069565952\n"
     ]
    }
   ],
   "source": [
    "class player:\n",
    "    def __init__(self,name,items=None) -> None:\n",
    "        self.name = name\n",
    "        if items is None:\n",
    "            self.items = []\n",
    "        else:\n",
    "            self.items=items\n",
    "\n",
    "        print(id(self.items))\n",
    "\n",
    "p1 = player(\"alice\")\n",
    "p2 = player(\"bob\")\n",
    "p3 = player(\"chars\",[\"sword\"])\n",
    "\n",
    "p1.items.append(\"armor\")\n",
    "p2.items.append(\"sword\")\n",
    "\n"
   ]
  },
  {
   "cell_type": "code",
   "execution_count": 10,
   "metadata": {},
   "outputs": [
    {
     "name": "stdout",
     "output_type": "stream",
     "text": [
      "2767075396736\n",
      "2767075396736\n",
      "2767075396032\n"
     ]
    }
   ],
   "source": [
    "class player:\n",
    "    def __init__(self,name,items=[]) -> None:\n",
    "        self.name = name\n",
    "        self.items = items\n",
    "        print(id(self.items))\n",
    "\n",
    "p1 = player(\"alice\")\n",
    "p2 = player(\"bob\")\n",
    "p3 = player(\"chars\",[\"sword\"])\n",
    "\n",
    "p1.items.append(\"armor\")\n",
    "p2.items.append(\"sword\")"
   ]
  },
  {
   "cell_type": "markdown",
   "metadata": {},
   "source": [
    "003 \n",
    "is与None\n",
    "is 比较指针地址\n",
    "重载 __bool__  __eq__  if a  if a ==\n",
    "# is 更快\n",
    "# 尽量使用is / is None"
   ]
  },
  {
   "cell_type": "code",
   "execution_count": 12,
   "metadata": {},
   "outputs": [
    {
     "name": "stdout",
     "output_type": "stream",
     "text": [
      "None\n",
      "is None\n"
     ]
    }
   ],
   "source": [
    "a=None\n",
    "if a:\n",
    "    print(\"not None\")\n",
    "\n",
    "if a == None:\n",
    "    print(\"None\")\n",
    "\n",
    "if a is None:\n",
    "    print(\"is None\")"
   ]
  },
  {
   "cell_type": "code",
   "execution_count": 13,
   "metadata": {},
   "outputs": [
    {
     "name": "stdout",
     "output_type": "stream",
     "text": [
      "None\n",
      "None\n",
      "None\n",
      "None\n",
      "None\n"
     ]
    }
   ],
   "source": [
    "for i in [[],{},set(),None,False]:\n",
    "    if not a:\n",
    "        print(\"None\")"
   ]
  },
  {
   "cell_type": "code",
   "execution_count": null,
   "metadata": {},
   "outputs": [],
   "source": [
    "class FeiCaculator:\n",
    "    def __init__(self,cache=None) -> None:\n",
    "        if cache:\n",
    "            self.cache=cache\n",
    "            "
   ]
  },
  {
   "cell_type": "code",
   "execution_count": 14,
   "metadata": {},
   "outputs": [
    {
     "name": "stdout",
     "output_type": "stream",
     "text": [
      "  0           0 RESUME                   0\n",
      "\n",
      "  1           2 LOAD_NAME                0 (a)\n",
      "              4 LOAD_CONST               0 (None)\n",
      "              6 COMPARE_OP              40 (==)\n",
      "             10 RETURN_VALUE\n",
      "None\n",
      "  0           0 RESUME                   0\n",
      "\n",
      "  1           2 LOAD_NAME                0 (a)\n",
      "              4 LOAD_CONST               0 (None)\n",
      "              6 IS_OP                    0\n",
      "              8 RETURN_VALUE\n",
      "None\n"
     ]
    }
   ],
   "source": [
    "import dis\n",
    "\n",
    "print(dis.dis(\"a==None\"))\n",
    "print(dis.dis(\"a is None\"))  #IS_OP"
   ]
  },
  {
   "cell_type": "markdown",
   "metadata": {},
   "source": [
    "004\n",
    "加法实现\n"
   ]
  },
  {
   "cell_type": "code",
   "execution_count": null,
   "metadata": {},
   "outputs": [],
   "source": [
    "#加法实现步骤 PyNumber_Add\n",
    "    # object 操作\n",
    "    # _add__ 可以重载\n",
    "\n",
    "    #Py_SIZE 计算位数  小数已有object处理\n"
   ]
  },
  {
   "cell_type": "markdown",
   "metadata": {},
   "source": [
    "005 字典  的key （自定义） 先比较hash 在比较eq  保证hash eq 不一样做唯一键值\n",
    "dict可 mutable\n",
    "PyDict_SetItem\n",
    "\n",
    "PyTypeObject\n",
    "\n",
    "hash object  __eq__  override_hash\n",
    "![alt text](image.png)\n",
    "\n"
   ]
  },
  {
   "cell_type": "code",
   "execution_count": null,
   "metadata": {},
   "outputs": [
    {
     "name": "stdout",
     "output_type": "stream",
     "text": [
      "{<__main__.Position object at 0x0000022F228FD880>: 1, <__main__.Position object at 0x0000022F225B2A80>: 2}\n"
     ]
    }
   ],
   "source": [
    "class Position(object):\n",
    "    def __init__(self, x, y):\n",
    "        self.x = x\n",
    "        self.y = y\n",
    "d = {}\n",
    "\n",
    "pos = Position(1, 2 )\n",
    "d[pos] = 1\n",
    "pos2 = Position(1,3)\n",
    "\n",
    "d[pos2] = 2\n",
    "\n",
    "print(d) # 两个key(dictionary的key必须是唯一的)\n",
    "\n"
   ]
  },
  {
   "cell_type": "code",
   "execution_count": null,
   "metadata": {},
   "outputs": [
    {
     "name": "stdout",
     "output_type": "stream",
     "text": [
      "{<__main__.Position object at 0x0000022F22930380>: 2}\n"
     ]
    }
   ],
   "source": [
    "class Position(object):\n",
    "    def __init__(self, x, y):\n",
    "        self.x = x\n",
    "        self.y = y\n",
    "\n",
    "    def __hash__(self):\n",
    "        return hash((self.x, self.y))\n",
    "    \n",
    "    def __eq__(self, other):\n",
    "        return self.x == other.x and self.y == other.y\n",
    "\n",
    "# 哈希碰撞\n",
    "d = {}\n",
    "\n",
    "pos = Position(1, 2 )\n",
    "d[pos] = 1\n",
    "pos2 = Position(1,2)\n",
    "\n",
    "d[pos2] = 2\n",
    "\n",
    "print(d) # 两个key(dictionary的key必须是唯一的)\n",
    "\n"
   ]
  },
  {
   "cell_type": "code",
   "execution_count": null,
   "metadata": {},
   "outputs": [
    {
     "name": "stdout",
     "output_type": "stream",
     "text": [
      "True\n",
      "{<__main__.Position object at 0x0000022F228FCAA0>: 2}\n"
     ]
    }
   ],
   "source": [
    "class Position(object):\n",
    "    def __init__(self, x, y):\n",
    "        self.x = x\n",
    "        self.y = y\n",
    "\n",
    "    def __hash__(self):\n",
    "        return hash((self.x, self.y))\n",
    "    \n",
    "    def __eq__(self, other):\n",
    "        return self.x == other.x and self.y == other.y\n",
    "\n",
    "# 哈希碰撞\n",
    "d = {}\n",
    "\n",
    "pos = Position(1, 2 )\n",
    "pos2 = pos\n",
    "print(pos==pos2)\n",
    "\n",
    "d[pos] = 1\n",
    "d[pos2] = 2\n",
    "\n",
    "print(d) # 此时优先比较指针\n",
    "\n"
   ]
  }
 ],
 "metadata": {
  "kernelspec": {
   "display_name": "Python 3",
   "language": "python",
   "name": "python3"
  },
  "language_info": {
   "codemirror_mode": {
    "name": "ipython",
    "version": 3
   },
   "file_extension": ".py",
   "mimetype": "text/x-python",
   "name": "python",
   "nbconvert_exporter": "python",
   "pygments_lexer": "ipython3",
   "version": "3.12.3"
  }
 },
 "nbformat": 4,
 "nbformat_minor": 2
}
